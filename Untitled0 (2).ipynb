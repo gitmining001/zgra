{
  "nbformat": 4,
  "nbformat_minor": 0,
  "metadata": {
    "colab": {
      "name": "Untitled0.ipynb",
      "provenance": []
    },
    "kernelspec": {
      "name": "python3",
      "display_name": "Python 3"
    },
    "language_info": {
      "name": "python"
    }
  },
  "cells": [
    {
      "cell_type": "code",
      "execution_count": null,
      "metadata": {
        "id": "f1TI8wNE3U_9"
      },
      "outputs": [],
      "source": [
        "### web to open add this /auth-sign-in ###\n",
        "!nvidia-smi\n",
        "!adduser rstudio\n",
        "!apt-get install gdebi-core\n",
        "!wget https://download2.rstudio.org/server/bionic/amd64/rstudio-server-1.3.1093-amd64.deb\n",
        "!gdebi -n rstudio-server-1.3.1093-amd64.deb\n",
        "!npm install -g localtunnel\n",
        "!lt --port 8787 "
      ]
    }
  ]
}